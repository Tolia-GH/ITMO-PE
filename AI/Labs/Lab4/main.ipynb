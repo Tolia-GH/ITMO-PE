{
 "cells": [
  {
   "cell_type": "markdown",
   "source": [
    "# Student Performance (Multiple Linear Regression)\n",
    "\n",
    "The Student Performance Dataset is a dataset designed to examine the factors influencing academic student performance. The dataset consists of 10,000 student records, with each record containing information about various predictors and a performance index.  \n",
    "学生表现数据集是旨在检查影响学术学生表现的因素的数据集。 该数据集由 10,000 条学生记录组成，每条记录都包含有关各种预测变量和表现指数的信息。\n",
    "\n",
    "Variables: 变量：\n",
    "- Hours Studied: The total number of hours spent studying by each student.  \n",
    "  学习时数：每个学生学习所花费的总时数。\n",
    "- Previous Scores: The scores obtained by students in previous tests.  \n",
    "  以前的分数：学生在以前的测试中获得的分数。\n",
    "- Extracurricular Activities: Whether the student participates in extracurricular activities (Yes or No).  \n",
    "  课外活动：学生是否参加课外活动（是或否）。\n",
    "- Sleep Hours: The average number of hours of sleep the student had per day.  \n",
    "  睡眠时间：学生每天的平均睡眠时间。\n",
    "- Sample Question Papers Practiced: The number of sample question papers the student practiced.  \n",
    "  练习的样本试卷：学生练习的样本试卷数量。\n",
    "\n",
    "Target Variable: 目标变量：\n",
    "\n",
    "- Performance Index: A measure of the overall performance of each student. The performance index represents the student's academic performance and has been rounded to the nearest integer. The index ranges from 10 to 100, with higher values indicating better performance.  \n",
    "  表现指数：衡量每个学生的整体表现。 成绩指数代表学生的学业成绩，并已四舍五入至最接近的整数。 该指数范围为 10 至 100，值越高表示性能越好。\n",
    "\n",
    "The dataset aims to provide insights into the relationship between the predictor variables and the performance index. Researchers and data analysts can use this dataset to explore the impact of studying hours, previous scores, extracurricular activities, sleep hours, and sample question papers on student performance.  \n",
    "该数据集旨在深入了解预测变量和绩效指数之间的关系。 研究人员和数据分析师可以使用此数据集来探索学习时间、以往成绩、课外活动、睡眠时间和样本试卷对学生表现的影响。\n",
    "\n",
    "P.S: Please note that this dataset is synthetic and created for illustrative purposes. The relationships between the variables and the performance index may not reflect real-world scenarios  \n",
    "P.S：请注意，该数据集是合成的，出于说明目的而创建。 变量和绩效指数之间的关系可能无法反映真实场景"
   ],
   "metadata": {
    "collapsed": false
   },
   "id": "b5306ab8a955e106"
  },
  {
   "cell_type": "code",
   "execution_count": 1,
   "outputs": [
    {
     "name": "stdout",
     "output_type": "stream",
     "text": [
      "Intel MKL WARNING: Support of Intel(R) Streaming SIMD Extensions 4.2 (Intel(R) SSE4.2) enabled only processors has been deprecated. Intel oneAPI Math Kernel Library 2025.0 will require Intel(R) Advanced Vector Extensions (Intel(R) AVX) instructions.\n",
      "Intel MKL WARNING: Support of Intel(R) Streaming SIMD Extensions 4.2 (Intel(R) SSE4.2) enabled only processors has been deprecated. Intel oneAPI Math Kernel Library 2025.0 will require Intel(R) Advanced Vector Extensions (Intel(R) AVX) instructions.\n"
     ]
    }
   ],
   "source": [
    "import pandas as pd\n",
    "import numpy as np\n",
    "import matplotlib.pyplot as plt"
   ],
   "metadata": {
    "collapsed": false,
    "ExecuteTime": {
     "end_time": "2023-12-18T09:36:23.835457Z",
     "start_time": "2023-12-18T09:36:21.119721Z"
    }
   },
   "id": "344023058cca0bf5"
  },
  {
   "cell_type": "code",
   "execution_count": 4,
   "outputs": [],
   "source": [
    "# read dataset from csv file\n",
    "data = pd.read_csv(\"./Student_Performance.csv\")"
   ],
   "metadata": {
    "collapsed": false,
    "ExecuteTime": {
     "end_time": "2023-11-18T07:50:20.891480Z",
     "start_time": "2023-11-18T07:50:20.879152Z"
    }
   },
   "id": "bccebdf88e38faa1"
  },
  {
   "cell_type": "code",
   "execution_count": 11,
   "outputs": [
    {
     "data": {
      "text/plain": "   Hours Studied  Previous Scores Extracurricular Activities  Sleep Hours  \\\n0              7               99                        Yes            9   \n1              4               82                         No            4   \n2              8               51                        Yes            7   \n3              5               52                        Yes            5   \n4              7               75                         No            8   \n5              3               78                         No            9   \n6              7               73                        Yes            5   \n7              8               45                        Yes            4   \n8              5               77                         No            8   \n9              4               89                         No            4   \n\n   Sample Question Papers Practiced  Performance Index  \n0                                 1               91.0  \n1                                 2               65.0  \n2                                 2               45.0  \n3                                 2               36.0  \n4                                 5               66.0  \n5                                 6               61.0  \n6                                 6               63.0  \n7                                 6               42.0  \n8                                 2               61.0  \n9                                 0               69.0  ",
      "text/html": "<div>\n<style scoped>\n    .dataframe tbody tr th:only-of-type {\n        vertical-align: middle;\n    }\n\n    .dataframe tbody tr th {\n        vertical-align: top;\n    }\n\n    .dataframe thead th {\n        text-align: right;\n    }\n</style>\n<table border=\"1\" class=\"dataframe\">\n  <thead>\n    <tr style=\"text-align: right;\">\n      <th></th>\n      <th>Hours Studied</th>\n      <th>Previous Scores</th>\n      <th>Extracurricular Activities</th>\n      <th>Sleep Hours</th>\n      <th>Sample Question Papers Practiced</th>\n      <th>Performance Index</th>\n    </tr>\n  </thead>\n  <tbody>\n    <tr>\n      <th>0</th>\n      <td>7</td>\n      <td>99</td>\n      <td>Yes</td>\n      <td>9</td>\n      <td>1</td>\n      <td>91.0</td>\n    </tr>\n    <tr>\n      <th>1</th>\n      <td>4</td>\n      <td>82</td>\n      <td>No</td>\n      <td>4</td>\n      <td>2</td>\n      <td>65.0</td>\n    </tr>\n    <tr>\n      <th>2</th>\n      <td>8</td>\n      <td>51</td>\n      <td>Yes</td>\n      <td>7</td>\n      <td>2</td>\n      <td>45.0</td>\n    </tr>\n    <tr>\n      <th>3</th>\n      <td>5</td>\n      <td>52</td>\n      <td>Yes</td>\n      <td>5</td>\n      <td>2</td>\n      <td>36.0</td>\n    </tr>\n    <tr>\n      <th>4</th>\n      <td>7</td>\n      <td>75</td>\n      <td>No</td>\n      <td>8</td>\n      <td>5</td>\n      <td>66.0</td>\n    </tr>\n    <tr>\n      <th>5</th>\n      <td>3</td>\n      <td>78</td>\n      <td>No</td>\n      <td>9</td>\n      <td>6</td>\n      <td>61.0</td>\n    </tr>\n    <tr>\n      <th>6</th>\n      <td>7</td>\n      <td>73</td>\n      <td>Yes</td>\n      <td>5</td>\n      <td>6</td>\n      <td>63.0</td>\n    </tr>\n    <tr>\n      <th>7</th>\n      <td>8</td>\n      <td>45</td>\n      <td>Yes</td>\n      <td>4</td>\n      <td>6</td>\n      <td>42.0</td>\n    </tr>\n    <tr>\n      <th>8</th>\n      <td>5</td>\n      <td>77</td>\n      <td>No</td>\n      <td>8</td>\n      <td>2</td>\n      <td>61.0</td>\n    </tr>\n    <tr>\n      <th>9</th>\n      <td>4</td>\n      <td>89</td>\n      <td>No</td>\n      <td>4</td>\n      <td>0</td>\n      <td>69.0</td>\n    </tr>\n  </tbody>\n</table>\n</div>"
     },
     "execution_count": 11,
     "metadata": {},
     "output_type": "execute_result"
    }
   ],
   "source": [
    "# show top 10 rows\n",
    "data.head(10)"
   ],
   "metadata": {
    "collapsed": false,
    "ExecuteTime": {
     "end_time": "2023-11-18T08:17:20.922154Z",
     "start_time": "2023-11-18T08:17:20.903001Z"
    }
   },
   "id": "ba51bba6ccaf423e"
  },
  {
   "cell_type": "code",
   "execution_count": 6,
   "outputs": [
    {
     "name": "stdout",
     "output_type": "stream",
     "text": [
      "<class 'pandas.core.frame.DataFrame'>\n",
      "RangeIndex: 10000 entries, 0 to 9999\n",
      "Data columns (total 6 columns):\n",
      " #   Column                            Non-Null Count  Dtype  \n",
      "---  ------                            --------------  -----  \n",
      " 0   Hours Studied                     10000 non-null  int64  \n",
      " 1   Previous Scores                   10000 non-null  int64  \n",
      " 2   Extracurricular Activities        10000 non-null  object \n",
      " 3   Sleep Hours                       10000 non-null  int64  \n",
      " 4   Sample Question Papers Practiced  10000 non-null  int64  \n",
      " 5   Performance Index                 10000 non-null  float64\n",
      "dtypes: float64(1), int64(4), object(1)\n",
      "memory usage: 468.9+ KB\n"
     ]
    }
   ],
   "source": [
    "# show column data type and data range\n",
    "data.info()"
   ],
   "metadata": {
    "collapsed": false,
    "ExecuteTime": {
     "end_time": "2023-11-18T07:51:42.696478Z",
     "start_time": "2023-11-18T07:51:42.670353Z"
    }
   },
   "id": "86dc4a7ffc1addad"
  },
  {
   "cell_type": "code",
   "execution_count": 8,
   "outputs": [
    {
     "data": {
      "text/plain": "Hours Studied                       0\nPrevious Scores                     0\nExtracurricular Activities          0\nSleep Hours                         0\nSample Question Papers Practiced    0\nPerformance Index                   0\ndtype: int64"
     },
     "execution_count": 8,
     "metadata": {},
     "output_type": "execute_result"
    }
   ],
   "source": [
    "# see the number of missing value in each column\n",
    "data.isna().sum()"
   ],
   "metadata": {
    "collapsed": false,
    "ExecuteTime": {
     "end_time": "2023-11-18T07:53:39.740358Z",
     "start_time": "2023-11-18T07:53:39.724416Z"
    }
   },
   "id": "583fffa958d6bfab"
  },
  {
   "cell_type": "code",
   "execution_count": 9,
   "outputs": [
    {
     "data": {
      "text/plain": "       Hours Studied  Previous Scores   Sleep Hours  \\\ncount   10000.000000     10000.000000  10000.000000   \nmean        4.992900        69.445700      6.530600   \nstd         2.589309        17.343152      1.695863   \nmin         1.000000        40.000000      4.000000   \n25%         3.000000        54.000000      5.000000   \n50%         5.000000        69.000000      7.000000   \n75%         7.000000        85.000000      8.000000   \nmax         9.000000        99.000000      9.000000   \n\n       Sample Question Papers Practiced  Performance Index  \ncount                      10000.000000       10000.000000  \nmean                           4.583300          55.224800  \nstd                            2.867348          19.212558  \nmin                            0.000000          10.000000  \n25%                            2.000000          40.000000  \n50%                            5.000000          55.000000  \n75%                            7.000000          71.000000  \nmax                            9.000000         100.000000  ",
      "text/html": "<div>\n<style scoped>\n    .dataframe tbody tr th:only-of-type {\n        vertical-align: middle;\n    }\n\n    .dataframe tbody tr th {\n        vertical-align: top;\n    }\n\n    .dataframe thead th {\n        text-align: right;\n    }\n</style>\n<table border=\"1\" class=\"dataframe\">\n  <thead>\n    <tr style=\"text-align: right;\">\n      <th></th>\n      <th>Hours Studied</th>\n      <th>Previous Scores</th>\n      <th>Sleep Hours</th>\n      <th>Sample Question Papers Practiced</th>\n      <th>Performance Index</th>\n    </tr>\n  </thead>\n  <tbody>\n    <tr>\n      <th>count</th>\n      <td>10000.000000</td>\n      <td>10000.000000</td>\n      <td>10000.000000</td>\n      <td>10000.000000</td>\n      <td>10000.000000</td>\n    </tr>\n    <tr>\n      <th>mean</th>\n      <td>4.992900</td>\n      <td>69.445700</td>\n      <td>6.530600</td>\n      <td>4.583300</td>\n      <td>55.224800</td>\n    </tr>\n    <tr>\n      <th>std</th>\n      <td>2.589309</td>\n      <td>17.343152</td>\n      <td>1.695863</td>\n      <td>2.867348</td>\n      <td>19.212558</td>\n    </tr>\n    <tr>\n      <th>min</th>\n      <td>1.000000</td>\n      <td>40.000000</td>\n      <td>4.000000</td>\n      <td>0.000000</td>\n      <td>10.000000</td>\n    </tr>\n    <tr>\n      <th>25%</th>\n      <td>3.000000</td>\n      <td>54.000000</td>\n      <td>5.000000</td>\n      <td>2.000000</td>\n      <td>40.000000</td>\n    </tr>\n    <tr>\n      <th>50%</th>\n      <td>5.000000</td>\n      <td>69.000000</td>\n      <td>7.000000</td>\n      <td>5.000000</td>\n      <td>55.000000</td>\n    </tr>\n    <tr>\n      <th>75%</th>\n      <td>7.000000</td>\n      <td>85.000000</td>\n      <td>8.000000</td>\n      <td>7.000000</td>\n      <td>71.000000</td>\n    </tr>\n    <tr>\n      <th>max</th>\n      <td>9.000000</td>\n      <td>99.000000</td>\n      <td>9.000000</td>\n      <td>9.000000</td>\n      <td>100.000000</td>\n    </tr>\n  </tbody>\n</table>\n</div>"
     },
     "execution_count": 9,
     "metadata": {},
     "output_type": "execute_result"
    }
   ],
   "source": [
    "# show info of numeric values\n",
    "data.describe()"
   ],
   "metadata": {
    "collapsed": false,
    "ExecuteTime": {
     "end_time": "2023-11-18T08:10:48.081502Z",
     "start_time": "2023-11-18T08:10:48.059992Z"
    }
   },
   "id": "5b76c8ee76411421"
  },
  {
   "cell_type": "code",
   "execution_count": 12,
   "outputs": [
    {
     "data": {
      "text/plain": "       Extracurricular Activities\ncount                       10000\nunique                          2\ntop                            No\nfreq                         5052",
      "text/html": "<div>\n<style scoped>\n    .dataframe tbody tr th:only-of-type {\n        vertical-align: middle;\n    }\n\n    .dataframe tbody tr th {\n        vertical-align: top;\n    }\n\n    .dataframe thead th {\n        text-align: right;\n    }\n</style>\n<table border=\"1\" class=\"dataframe\">\n  <thead>\n    <tr style=\"text-align: right;\">\n      <th></th>\n      <th>Extracurricular Activities</th>\n    </tr>\n  </thead>\n  <tbody>\n    <tr>\n      <th>count</th>\n      <td>10000</td>\n    </tr>\n    <tr>\n      <th>unique</th>\n      <td>2</td>\n    </tr>\n    <tr>\n      <th>top</th>\n      <td>No</td>\n    </tr>\n    <tr>\n      <th>freq</th>\n      <td>5052</td>\n    </tr>\n  </tbody>\n</table>\n</div>"
     },
     "execution_count": 12,
     "metadata": {},
     "output_type": "execute_result"
    }
   ],
   "source": [
    "# show info of objective values\n",
    "data.describe(include = object)"
   ],
   "metadata": {
    "collapsed": false,
    "ExecuteTime": {
     "end_time": "2023-11-18T13:56:40.115331Z",
     "start_time": "2023-11-18T13:56:40.076170Z"
    }
   },
   "id": "56f80fa13ffcbef5"
  },
  {
   "cell_type": "code",
   "execution_count": null,
   "outputs": [],
   "source": [],
   "metadata": {
    "collapsed": false
   },
   "id": "31d05807a0fd4ef4"
  }
 ],
 "metadata": {
  "kernelspec": {
   "display_name": "Python 3",
   "language": "python",
   "name": "python3"
  },
  "language_info": {
   "codemirror_mode": {
    "name": "ipython",
    "version": 2
   },
   "file_extension": ".py",
   "mimetype": "text/x-python",
   "name": "python",
   "nbconvert_exporter": "python",
   "pygments_lexer": "ipython2",
   "version": "2.7.6"
  }
 },
 "nbformat": 4,
 "nbformat_minor": 5
}
