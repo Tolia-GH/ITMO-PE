{
 "cells": [
  {
   "cell_type": "markdown",
   "id": "715395e93bb036b7",
   "metadata": {
    "collapsed": false
   },
   "source": [
    "**Задание**\n",
    "\n",
    "Выбор датасета:\n",
    "\n",
    "Четный номер в группе - Датасет [о вине](https://www.kaggle.com/datasets/davorbudimir/winedataset)\n",
    "\n",
    "Нечетный номер в группе - Датасет [про обезьян](https://www.kaggle.com/datasets/slothkong/10-monkey-species)\n",
    "\n",
    "- Проведите предварительную обработку данных, включая обработку отсутствующих значений, кодирование категориальных признаков и масштабирование.\n",
    "  执行数据预处理，包括缺失值处理、分类特征编码和缩放。\n",
    "- Реализуйте метод k-ближайших соседей без использования сторонних библиотек, кроме NumPy и Pandas.\n",
    "  实现k近邻方法，不使用NumPy和Pandas以外的第三方库。\n",
    "- Постройте две модели k-NN с различными наборами признаков:\n",
    "  构建两个具有不同特征集的 k-NN 模型：\n",
    "    - Модель 1: Признаки случайно отбираются.\n",
    "      模型1：特征是随机选择的。\n",
    "    - Модель 2: Фиксированный набор признаков, который выбирается заранее.\n",
    "      模型2：预先选择的一组固定特征。\n",
    "- Для каждой модели проведите оценку на тестовом наборе данных при разных значениях k. Выберите несколько различных значений k, например, k=3, k=5, k=10, и т. д. Постройте матрицу ошибок.\n",
    "  对于每个模型，在不同的 k 值下对测试数据集进行评估。 选择k的几个不同值，例如k=3、k=5、k=10等。构造误差矩阵。"
   ]
  },
  {
   "cell_type": "markdown",
   "id": "b5306ab8a955e106",
   "metadata": {
    "collapsed": false
   },
   "source": [
    "# 10 Monkey Species\n",
    "\n",
    "## About Dataset\n",
    "\n",
    "\n",
    "These data are the results of a chemical analysis of wines grown in the same region in Italy but derived from three different cultivars. The analysis determined the quantities of 13 constituents found in each of the three types of wines.\n",
    "这些数据是对意大利同一地区种植但来自三个不同品种的葡萄酒进行化学分析的结果。 分析确定了三种葡萄酒中每种葡萄酒中 13 种成分的含量。\n",
    "\n",
    "I think that the initial data set had around 30 variables, but for some reason I only have the 13 dimensional version. I had a list of what the 30 or so variables were, but a.) I lost it, and b.), I would not know which 13 variables are included in the set.\n",
    "我认为初始数据集大约有 30 个变量，但由于某种原因我只有 13 维版本。 我有一个大约 30 个变量的列表，但是 a.) 我丢失了它，b.) 我不知道该集合中包含哪 13 个变量。\n",
    "\n",
    "The attributes are (dontated by Riccardo Leardi, riclea '@' anchem.unige.it )\n",
    "1) Alcohol\n",
    "2) Malic acid\n",
    "3) Ash\n",
    "4) Alcalinity of ash\n",
    "5) Magnesium\n",
    "6) Total phenols\n",
    "7) Flavanoids\n",
    "8) Nonflavanoid phenols\n",
    "9) Proanthocyanins\n",
    "10) Color intensity\n",
    "11) Hue\n",
    "12) OD280/OD315 of diluted wines\n",
    "13) Proline\n",
    "\n",
    "In a classification context, this is a well posed problem with \"well behaved\" class structures. A good data set for first testing of a new classifier, but not very challenging.\n",
    "在分类上下文中，这是一个具有“行为良好”类结构的适定问题。 对于新分类器的首次测试来说这是一个很好的数据集，但不是很有挑战性。"
   ]
  },
  {
   "cell_type": "markdown",
   "id": "426170c8a4d3bbca",
   "metadata": {
    "collapsed": false
   },
   "source": [
    "## 1 Получите и визуализируйте статистику по датасету (включая количество, среднее значение, стандартное отклонение, минимум, максимум и различные квантили).\n",
    "## 获取并可视化数据集的统计数据（包括计数、平均值、标准差、最小值、最大值和各种分位数）。"
   ]
  },
  {
   "cell_type": "code",
   "execution_count": 15,
   "id": "344023058cca0bf5",
   "metadata": {
    "collapsed": false,
    "ExecuteTime": {
     "end_time": "2024-01-19T11:13:41.546435Z",
     "start_time": "2024-01-19T11:13:41.396132Z"
    }
   },
   "outputs": [],
   "source": [
    "import pandas as pd\n",
    "import numpy as np\n",
    "import matplotlib.pyplot as plt\n",
    "import seaborn as sns"
   ]
  },
  {
   "cell_type": "code",
   "execution_count": 16,
   "id": "bccebdf88e38faa1",
   "metadata": {
    "collapsed": false,
    "ExecuteTime": {
     "end_time": "2024-01-19T11:13:41.564811Z",
     "start_time": "2024-01-19T11:13:41.402396Z"
    }
   },
   "outputs": [],
   "source": [
    "# read dataset from csv file\n",
    "data = pd.read_csv(\"./WineDataset.csv\")"
   ]
  },
  {
   "cell_type": "code",
   "execution_count": 17,
   "id": "ba51bba6ccaf423e",
   "metadata": {
    "collapsed": false,
    "ExecuteTime": {
     "end_time": "2024-01-19T11:13:41.565505Z",
     "start_time": "2024-01-19T11:13:41.420321Z"
    }
   },
   "outputs": [
    {
     "data": {
      "text/plain": "   Alcohol  Malic Acid   Ash  Alcalinity of ash  Magnesium  Total phenols  \\\n0    14.23        1.71  2.43               15.6      127.0           2.80   \n1    13.20        1.78  2.14               11.2      100.0           2.65   \n2    13.16        2.36  2.67               18.6      101.0           2.80   \n3    14.37        1.95  2.50               16.8      113.0           3.85   \n4    13.24        2.59  2.87               21.0      118.0           2.80   \n\n   Flavanoids  Nonflavanoid phenols  Proanthocyanins  Color intensity   Hue  \\\n0        3.06                  0.28             2.29             5.64  1.04   \n1        2.76                  0.26             1.28             4.38  1.05   \n2        3.24                  0.30             2.81             5.68  1.03   \n3        3.49                  0.24             2.18             7.80  0.86   \n4        2.69                  0.39             1.82             4.32  1.04   \n\n   OD280/OD315 of diluted wines  Proline  Wine  \n0                          3.92   1065.0     1  \n1                          3.40   1050.0     1  \n2                          3.17   1185.0     1  \n3                          3.45   1480.0     1  \n4                          2.93    735.0     1  ",
      "text/html": "<div>\n<style scoped>\n    .dataframe tbody tr th:only-of-type {\n        vertical-align: middle;\n    }\n\n    .dataframe tbody tr th {\n        vertical-align: top;\n    }\n\n    .dataframe thead th {\n        text-align: right;\n    }\n</style>\n<table border=\"1\" class=\"dataframe\">\n  <thead>\n    <tr style=\"text-align: right;\">\n      <th></th>\n      <th>Alcohol</th>\n      <th>Malic Acid</th>\n      <th>Ash</th>\n      <th>Alcalinity of ash</th>\n      <th>Magnesium</th>\n      <th>Total phenols</th>\n      <th>Flavanoids</th>\n      <th>Nonflavanoid phenols</th>\n      <th>Proanthocyanins</th>\n      <th>Color intensity</th>\n      <th>Hue</th>\n      <th>OD280/OD315 of diluted wines</th>\n      <th>Proline</th>\n      <th>Wine</th>\n    </tr>\n  </thead>\n  <tbody>\n    <tr>\n      <th>0</th>\n      <td>14.23</td>\n      <td>1.71</td>\n      <td>2.43</td>\n      <td>15.6</td>\n      <td>127.0</td>\n      <td>2.80</td>\n      <td>3.06</td>\n      <td>0.28</td>\n      <td>2.29</td>\n      <td>5.64</td>\n      <td>1.04</td>\n      <td>3.92</td>\n      <td>1065.0</td>\n      <td>1</td>\n    </tr>\n    <tr>\n      <th>1</th>\n      <td>13.20</td>\n      <td>1.78</td>\n      <td>2.14</td>\n      <td>11.2</td>\n      <td>100.0</td>\n      <td>2.65</td>\n      <td>2.76</td>\n      <td>0.26</td>\n      <td>1.28</td>\n      <td>4.38</td>\n      <td>1.05</td>\n      <td>3.40</td>\n      <td>1050.0</td>\n      <td>1</td>\n    </tr>\n    <tr>\n      <th>2</th>\n      <td>13.16</td>\n      <td>2.36</td>\n      <td>2.67</td>\n      <td>18.6</td>\n      <td>101.0</td>\n      <td>2.80</td>\n      <td>3.24</td>\n      <td>0.30</td>\n      <td>2.81</td>\n      <td>5.68</td>\n      <td>1.03</td>\n      <td>3.17</td>\n      <td>1185.0</td>\n      <td>1</td>\n    </tr>\n    <tr>\n      <th>3</th>\n      <td>14.37</td>\n      <td>1.95</td>\n      <td>2.50</td>\n      <td>16.8</td>\n      <td>113.0</td>\n      <td>3.85</td>\n      <td>3.49</td>\n      <td>0.24</td>\n      <td>2.18</td>\n      <td>7.80</td>\n      <td>0.86</td>\n      <td>3.45</td>\n      <td>1480.0</td>\n      <td>1</td>\n    </tr>\n    <tr>\n      <th>4</th>\n      <td>13.24</td>\n      <td>2.59</td>\n      <td>2.87</td>\n      <td>21.0</td>\n      <td>118.0</td>\n      <td>2.80</td>\n      <td>2.69</td>\n      <td>0.39</td>\n      <td>1.82</td>\n      <td>4.32</td>\n      <td>1.04</td>\n      <td>2.93</td>\n      <td>735.0</td>\n      <td>1</td>\n    </tr>\n  </tbody>\n</table>\n</div>"
     },
     "execution_count": 17,
     "metadata": {},
     "output_type": "execute_result"
    }
   ],
   "source": [
    "# show top 10 rows\n",
    "data.head(5)"
   ]
  },
  {
   "cell_type": "code",
   "execution_count": 18,
   "id": "86dc4a7ffc1addad",
   "metadata": {
    "collapsed": false,
    "ExecuteTime": {
     "end_time": "2024-01-19T11:13:41.565744Z",
     "start_time": "2024-01-19T11:13:41.426844Z"
    }
   },
   "outputs": [
    {
     "name": "stdout",
     "output_type": "stream",
     "text": [
      "<class 'pandas.core.frame.DataFrame'>\n",
      "RangeIndex: 178 entries, 0 to 177\n",
      "Data columns (total 14 columns):\n",
      " #   Column                        Non-Null Count  Dtype  \n",
      "---  ------                        --------------  -----  \n",
      " 0   Alcohol                       178 non-null    float64\n",
      " 1   Malic Acid                    178 non-null    float64\n",
      " 2   Ash                           178 non-null    float64\n",
      " 3   Alcalinity of ash             178 non-null    float64\n",
      " 4   Magnesium                     178 non-null    float64\n",
      " 5   Total phenols                 178 non-null    float64\n",
      " 6   Flavanoids                    178 non-null    float64\n",
      " 7   Nonflavanoid phenols          178 non-null    float64\n",
      " 8   Proanthocyanins               178 non-null    float64\n",
      " 9   Color intensity               178 non-null    float64\n",
      " 10  Hue                           178 non-null    float64\n",
      " 11  OD280/OD315 of diluted wines  178 non-null    float64\n",
      " 12  Proline                       178 non-null    float64\n",
      " 13  Wine                          178 non-null    int64  \n",
      "dtypes: float64(13), int64(1)\n",
      "memory usage: 19.6 KB\n"
     ]
    }
   ],
   "source": [
    "# show column data type and data range\n",
    "data.info()"
   ]
  },
  {
   "cell_type": "code",
   "execution_count": 19,
   "id": "5b76c8ee76411421",
   "metadata": {
    "collapsed": false,
    "ExecuteTime": {
     "end_time": "2024-01-19T11:13:41.566270Z",
     "start_time": "2024-01-19T11:13:41.436246Z"
    }
   },
   "outputs": [
    {
     "data": {
      "text/plain": "                              count        mean         std     min       25%  \\\nAlcohol                       178.0   13.000618    0.811827   11.03   12.3625   \nMalic Acid                    178.0    2.336348    1.117146    0.74    1.6025   \nAsh                           178.0    2.366517    0.274344    1.36    2.2100   \nAlcalinity of ash             178.0   19.494944    3.339564   10.60   17.2000   \nMagnesium                     178.0   99.741573   14.282484   70.00   88.0000   \nTotal phenols                 178.0    2.295112    0.625851    0.98    1.7425   \nFlavanoids                    178.0    2.029270    0.998859    0.34    1.2050   \nNonflavanoid phenols          178.0    0.361854    0.124453    0.13    0.2700   \nProanthocyanins               178.0    1.590899    0.572359    0.41    1.2500   \nColor intensity               178.0    5.058090    2.318286    1.28    3.2200   \nHue                           178.0    0.957449    0.228572    0.48    0.7825   \nOD280/OD315 of diluted wines  178.0    2.611685    0.709990    1.27    1.9375   \nProline                       178.0  746.893258  314.907474  278.00  500.5000   \nWine                          178.0    1.938202    0.775035    1.00    1.0000   \n\n                                  50%       75%      max  \nAlcohol                        13.050   13.6775    14.83  \nMalic Acid                      1.865    3.0825     5.80  \nAsh                             2.360    2.5575     3.23  \nAlcalinity of ash              19.500   21.5000    30.00  \nMagnesium                      98.000  107.0000   162.00  \nTotal phenols                   2.355    2.8000     3.88  \nFlavanoids                      2.135    2.8750     5.08  \nNonflavanoid phenols            0.340    0.4375     0.66  \nProanthocyanins                 1.555    1.9500     3.58  \nColor intensity                 4.690    6.2000    13.00  \nHue                             0.965    1.1200     1.71  \nOD280/OD315 of diluted wines    2.780    3.1700     4.00  \nProline                       673.500  985.0000  1680.00  \nWine                            2.000    3.0000     3.00  ",
      "text/html": "<div>\n<style scoped>\n    .dataframe tbody tr th:only-of-type {\n        vertical-align: middle;\n    }\n\n    .dataframe tbody tr th {\n        vertical-align: top;\n    }\n\n    .dataframe thead th {\n        text-align: right;\n    }\n</style>\n<table border=\"1\" class=\"dataframe\">\n  <thead>\n    <tr style=\"text-align: right;\">\n      <th></th>\n      <th>count</th>\n      <th>mean</th>\n      <th>std</th>\n      <th>min</th>\n      <th>25%</th>\n      <th>50%</th>\n      <th>75%</th>\n      <th>max</th>\n    </tr>\n  </thead>\n  <tbody>\n    <tr>\n      <th>Alcohol</th>\n      <td>178.0</td>\n      <td>13.000618</td>\n      <td>0.811827</td>\n      <td>11.03</td>\n      <td>12.3625</td>\n      <td>13.050</td>\n      <td>13.6775</td>\n      <td>14.83</td>\n    </tr>\n    <tr>\n      <th>Malic Acid</th>\n      <td>178.0</td>\n      <td>2.336348</td>\n      <td>1.117146</td>\n      <td>0.74</td>\n      <td>1.6025</td>\n      <td>1.865</td>\n      <td>3.0825</td>\n      <td>5.80</td>\n    </tr>\n    <tr>\n      <th>Ash</th>\n      <td>178.0</td>\n      <td>2.366517</td>\n      <td>0.274344</td>\n      <td>1.36</td>\n      <td>2.2100</td>\n      <td>2.360</td>\n      <td>2.5575</td>\n      <td>3.23</td>\n    </tr>\n    <tr>\n      <th>Alcalinity of ash</th>\n      <td>178.0</td>\n      <td>19.494944</td>\n      <td>3.339564</td>\n      <td>10.60</td>\n      <td>17.2000</td>\n      <td>19.500</td>\n      <td>21.5000</td>\n      <td>30.00</td>\n    </tr>\n    <tr>\n      <th>Magnesium</th>\n      <td>178.0</td>\n      <td>99.741573</td>\n      <td>14.282484</td>\n      <td>70.00</td>\n      <td>88.0000</td>\n      <td>98.000</td>\n      <td>107.0000</td>\n      <td>162.00</td>\n    </tr>\n    <tr>\n      <th>Total phenols</th>\n      <td>178.0</td>\n      <td>2.295112</td>\n      <td>0.625851</td>\n      <td>0.98</td>\n      <td>1.7425</td>\n      <td>2.355</td>\n      <td>2.8000</td>\n      <td>3.88</td>\n    </tr>\n    <tr>\n      <th>Flavanoids</th>\n      <td>178.0</td>\n      <td>2.029270</td>\n      <td>0.998859</td>\n      <td>0.34</td>\n      <td>1.2050</td>\n      <td>2.135</td>\n      <td>2.8750</td>\n      <td>5.08</td>\n    </tr>\n    <tr>\n      <th>Nonflavanoid phenols</th>\n      <td>178.0</td>\n      <td>0.361854</td>\n      <td>0.124453</td>\n      <td>0.13</td>\n      <td>0.2700</td>\n      <td>0.340</td>\n      <td>0.4375</td>\n      <td>0.66</td>\n    </tr>\n    <tr>\n      <th>Proanthocyanins</th>\n      <td>178.0</td>\n      <td>1.590899</td>\n      <td>0.572359</td>\n      <td>0.41</td>\n      <td>1.2500</td>\n      <td>1.555</td>\n      <td>1.9500</td>\n      <td>3.58</td>\n    </tr>\n    <tr>\n      <th>Color intensity</th>\n      <td>178.0</td>\n      <td>5.058090</td>\n      <td>2.318286</td>\n      <td>1.28</td>\n      <td>3.2200</td>\n      <td>4.690</td>\n      <td>6.2000</td>\n      <td>13.00</td>\n    </tr>\n    <tr>\n      <th>Hue</th>\n      <td>178.0</td>\n      <td>0.957449</td>\n      <td>0.228572</td>\n      <td>0.48</td>\n      <td>0.7825</td>\n      <td>0.965</td>\n      <td>1.1200</td>\n      <td>1.71</td>\n    </tr>\n    <tr>\n      <th>OD280/OD315 of diluted wines</th>\n      <td>178.0</td>\n      <td>2.611685</td>\n      <td>0.709990</td>\n      <td>1.27</td>\n      <td>1.9375</td>\n      <td>2.780</td>\n      <td>3.1700</td>\n      <td>4.00</td>\n    </tr>\n    <tr>\n      <th>Proline</th>\n      <td>178.0</td>\n      <td>746.893258</td>\n      <td>314.907474</td>\n      <td>278.00</td>\n      <td>500.5000</td>\n      <td>673.500</td>\n      <td>985.0000</td>\n      <td>1680.00</td>\n    </tr>\n    <tr>\n      <th>Wine</th>\n      <td>178.0</td>\n      <td>1.938202</td>\n      <td>0.775035</td>\n      <td>1.00</td>\n      <td>1.0000</td>\n      <td>2.000</td>\n      <td>3.0000</td>\n      <td>3.00</td>\n    </tr>\n  </tbody>\n</table>\n</div>"
     },
     "execution_count": 19,
     "metadata": {},
     "output_type": "execute_result"
    }
   ],
   "source": [
    "# show info of numeric values\n",
    "data.describe().T"
   ]
  },
  {
   "cell_type": "markdown",
   "id": "6504ce342e4beea",
   "metadata": {
    "collapsed": false
   },
   "source": [
    "## 2 Проведите предварительную обработку данных, включая обработку отсутствующих значений, кодирование категориальных признаков и нормировка.\n",
    "## 执行数据预处理，包括处理缺失值、分类特征编码和标准化。"
   ]
  },
  {
   "cell_type": "code",
   "execution_count": 20,
   "id": "69d2221c1d21d660",
   "metadata": {
    "collapsed": false,
    "ExecuteTime": {
     "end_time": "2024-01-19T11:13:41.566504Z",
     "start_time": "2024-01-19T11:13:41.458499Z"
    }
   },
   "outputs": [
    {
     "data": {
      "text/plain": "Alcohol                         0\nMalic Acid                      0\nAsh                             0\nAlcalinity of ash               0\nMagnesium                       0\nTotal phenols                   0\nFlavanoids                      0\nNonflavanoid phenols            0\nProanthocyanins                 0\nColor intensity                 0\nHue                             0\nOD280/OD315 of diluted wines    0\nProline                         0\nWine                            0\ndtype: int64"
     },
     "execution_count": 20,
     "metadata": {},
     "output_type": "execute_result"
    }
   ],
   "source": [
    "# check if there is missing value in each column\n",
    "data.isna().sum()"
   ]
  },
  {
   "cell_type": "code",
   "execution_count": 23,
   "id": "65a487afda1317ea",
   "metadata": {
    "collapsed": false,
    "ExecuteTime": {
     "end_time": "2024-01-19T11:13:43.565112Z",
     "start_time": "2024-01-19T11:13:43.558948Z"
    }
   },
   "outputs": [
    {
     "data": {
      "text/plain": "Index(['Alcohol', 'Malic Acid', 'Ash', 'Alcalinity of ash', 'Magnesium',\n       'Total phenols', 'Flavanoids', 'Nonflavanoid phenols',\n       'Proanthocyanins', 'Color intensity', 'Hue',\n       'OD280/OD315 of diluted wines', 'Proline', 'Wine'],\n      dtype='object')"
     },
     "execution_count": 23,
     "metadata": {},
     "output_type": "execute_result"
    }
   ],
   "source": [
    "data.columns"
   ]
  },
  {
   "cell_type": "code",
   "execution_count": 28,
   "id": "7892455b3967c070",
   "metadata": {
    "collapsed": false,
    "ExecuteTime": {
     "end_time": "2024-01-19T11:16:24.973887Z",
     "start_time": "2024-01-19T11:16:24.947590Z"
    }
   },
   "outputs": [],
   "source": [
    "data_std = (data - data.min()) / (data.max() - data.min())  # Z-score standardize\n",
    "data_std['Wine'] = data['Wine']"
   ]
  },
  {
   "cell_type": "code",
   "execution_count": 29,
   "id": "be58b511f096c61e",
   "metadata": {
    "collapsed": false,
    "ExecuteTime": {
     "end_time": "2024-01-19T11:16:26.722151Z",
     "start_time": "2024-01-19T11:16:26.689145Z"
    }
   },
   "outputs": [
    {
     "data": {
      "text/plain": "                              count      mean       std  min       25%  \\\nAlcohol                       178.0  0.518584  0.213639  0.0  0.350658   \nMalic Acid                    178.0  0.315484  0.220780  0.0  0.170455   \nAsh                           178.0  0.538244  0.146708  0.0  0.454545   \nAlcalinity of ash             178.0  0.458502  0.172142  0.0  0.340206   \nMagnesium                     178.0  0.323278  0.155244  0.0  0.195652   \nTotal phenols                 178.0  0.453487  0.215811  0.0  0.262931   \nFlavanoids                    178.0  0.356386  0.210730  0.0  0.182489   \nNonflavanoid phenols          178.0  0.437460  0.234818  0.0  0.264151   \nProanthocyanins               178.0  0.372523  0.180555  0.0  0.264984   \nColor intensity               178.0  0.322363  0.197806  0.0  0.165529   \nHue                           178.0  0.388170  0.185831  0.0  0.245935   \nOD280/OD315 of diluted wines  178.0  0.491460  0.260070  0.0  0.244505   \nProline                       178.0  0.334446  0.224613  0.0  0.158702   \nWine                          178.0  1.938202  0.775035  1.0  1.000000   \n\n                                   50%       75%  max  \nAlcohol                       0.531579  0.696711  1.0  \nMalic Acid                    0.222332  0.462945  1.0  \nAsh                           0.534759  0.640374  1.0  \nAlcalinity of ash             0.458763  0.561856  1.0  \nMagnesium                     0.304348  0.402174  1.0  \nTotal phenols                 0.474138  0.627586  1.0  \nFlavanoids                    0.378692  0.534810  1.0  \nNonflavanoid phenols          0.396226  0.580189  1.0  \nProanthocyanins               0.361199  0.485804  1.0  \nColor intensity               0.290956  0.419795  1.0  \nHue                           0.394309  0.520325  1.0  \nOD280/OD315 of diluted wines  0.553114  0.695971  1.0  \nProline                       0.282097  0.504280  1.0  \nWine                          2.000000  3.000000  3.0  ",
      "text/html": "<div>\n<style scoped>\n    .dataframe tbody tr th:only-of-type {\n        vertical-align: middle;\n    }\n\n    .dataframe tbody tr th {\n        vertical-align: top;\n    }\n\n    .dataframe thead th {\n        text-align: right;\n    }\n</style>\n<table border=\"1\" class=\"dataframe\">\n  <thead>\n    <tr style=\"text-align: right;\">\n      <th></th>\n      <th>count</th>\n      <th>mean</th>\n      <th>std</th>\n      <th>min</th>\n      <th>25%</th>\n      <th>50%</th>\n      <th>75%</th>\n      <th>max</th>\n    </tr>\n  </thead>\n  <tbody>\n    <tr>\n      <th>Alcohol</th>\n      <td>178.0</td>\n      <td>0.518584</td>\n      <td>0.213639</td>\n      <td>0.0</td>\n      <td>0.350658</td>\n      <td>0.531579</td>\n      <td>0.696711</td>\n      <td>1.0</td>\n    </tr>\n    <tr>\n      <th>Malic Acid</th>\n      <td>178.0</td>\n      <td>0.315484</td>\n      <td>0.220780</td>\n      <td>0.0</td>\n      <td>0.170455</td>\n      <td>0.222332</td>\n      <td>0.462945</td>\n      <td>1.0</td>\n    </tr>\n    <tr>\n      <th>Ash</th>\n      <td>178.0</td>\n      <td>0.538244</td>\n      <td>0.146708</td>\n      <td>0.0</td>\n      <td>0.454545</td>\n      <td>0.534759</td>\n      <td>0.640374</td>\n      <td>1.0</td>\n    </tr>\n    <tr>\n      <th>Alcalinity of ash</th>\n      <td>178.0</td>\n      <td>0.458502</td>\n      <td>0.172142</td>\n      <td>0.0</td>\n      <td>0.340206</td>\n      <td>0.458763</td>\n      <td>0.561856</td>\n      <td>1.0</td>\n    </tr>\n    <tr>\n      <th>Magnesium</th>\n      <td>178.0</td>\n      <td>0.323278</td>\n      <td>0.155244</td>\n      <td>0.0</td>\n      <td>0.195652</td>\n      <td>0.304348</td>\n      <td>0.402174</td>\n      <td>1.0</td>\n    </tr>\n    <tr>\n      <th>Total phenols</th>\n      <td>178.0</td>\n      <td>0.453487</td>\n      <td>0.215811</td>\n      <td>0.0</td>\n      <td>0.262931</td>\n      <td>0.474138</td>\n      <td>0.627586</td>\n      <td>1.0</td>\n    </tr>\n    <tr>\n      <th>Flavanoids</th>\n      <td>178.0</td>\n      <td>0.356386</td>\n      <td>0.210730</td>\n      <td>0.0</td>\n      <td>0.182489</td>\n      <td>0.378692</td>\n      <td>0.534810</td>\n      <td>1.0</td>\n    </tr>\n    <tr>\n      <th>Nonflavanoid phenols</th>\n      <td>178.0</td>\n      <td>0.437460</td>\n      <td>0.234818</td>\n      <td>0.0</td>\n      <td>0.264151</td>\n      <td>0.396226</td>\n      <td>0.580189</td>\n      <td>1.0</td>\n    </tr>\n    <tr>\n      <th>Proanthocyanins</th>\n      <td>178.0</td>\n      <td>0.372523</td>\n      <td>0.180555</td>\n      <td>0.0</td>\n      <td>0.264984</td>\n      <td>0.361199</td>\n      <td>0.485804</td>\n      <td>1.0</td>\n    </tr>\n    <tr>\n      <th>Color intensity</th>\n      <td>178.0</td>\n      <td>0.322363</td>\n      <td>0.197806</td>\n      <td>0.0</td>\n      <td>0.165529</td>\n      <td>0.290956</td>\n      <td>0.419795</td>\n      <td>1.0</td>\n    </tr>\n    <tr>\n      <th>Hue</th>\n      <td>178.0</td>\n      <td>0.388170</td>\n      <td>0.185831</td>\n      <td>0.0</td>\n      <td>0.245935</td>\n      <td>0.394309</td>\n      <td>0.520325</td>\n      <td>1.0</td>\n    </tr>\n    <tr>\n      <th>OD280/OD315 of diluted wines</th>\n      <td>178.0</td>\n      <td>0.491460</td>\n      <td>0.260070</td>\n      <td>0.0</td>\n      <td>0.244505</td>\n      <td>0.553114</td>\n      <td>0.695971</td>\n      <td>1.0</td>\n    </tr>\n    <tr>\n      <th>Proline</th>\n      <td>178.0</td>\n      <td>0.334446</td>\n      <td>0.224613</td>\n      <td>0.0</td>\n      <td>0.158702</td>\n      <td>0.282097</td>\n      <td>0.504280</td>\n      <td>1.0</td>\n    </tr>\n    <tr>\n      <th>Wine</th>\n      <td>178.0</td>\n      <td>1.938202</td>\n      <td>0.775035</td>\n      <td>1.0</td>\n      <td>1.000000</td>\n      <td>2.000000</td>\n      <td>3.000000</td>\n      <td>3.0</td>\n    </tr>\n  </tbody>\n</table>\n</div>"
     },
     "execution_count": 29,
     "metadata": {},
     "output_type": "execute_result"
    }
   ],
   "source": [
    "data_std.describe().T"
   ]
  },
  {
   "cell_type": "markdown",
   "id": "660e16260d23397",
   "metadata": {
    "collapsed": false
   },
   "source": [
    "## 3 Разделите данные на обучающий и тестовый наборы данных.\n",
    "## 将数据分为训练数据集和测试数据集。"
   ]
  },
  {
   "cell_type": "code",
   "execution_count": 31,
   "id": "a22b0b7f6dc4892f",
   "metadata": {
    "collapsed": false,
    "ExecuteTime": {
     "end_time": "2024-01-19T11:17:52.775940Z",
     "start_time": "2024-01-19T11:17:52.760789Z"
    }
   },
   "outputs": [
    {
     "name": "stdout",
     "output_type": "stream",
     "text": [
      "(142, 13)\n",
      "(36, 13)\n",
      "(142,)\n",
      "(36,)\n"
     ]
    }
   ],
   "source": [
    "from sklearn.model_selection import train_test_split\n",
    "train_data, test_data =train_test_split(data_std, test_size=0.2, random_state=42)\n",
    "\n",
    "x_train = train_data.drop('Wine', axis=1)\n",
    "y_train = train_data['Wine']\n",
    "x_test = test_data.drop('Wine', axis=1)\n",
    "y_test = test_data['Wine']\n",
    "\n",
    "print(x_train.shape)\n",
    "print(x_test.shape)\n",
    "print(y_train.shape)\n",
    "print(y_test.shape)"
   ]
  },
  {
   "cell_type": "code",
   "execution_count": null,
   "id": "f4eece27f2958597",
   "metadata": {
    "collapsed": false,
    "ExecuteTime": {
     "start_time": "2024-01-19T11:13:45.016040Z"
    }
   },
   "outputs": [],
   "source": [
    "class LinearRegression:\n",
    "    def __init__(self):\n",
    "        self.coefficients = None\n",
    "\n",
    "    def fit(self, X, y):\n",
    "        X_b = np.c_[np.ones((X.shape[0], 1)), X]  # 添加偏置项\n",
    "        self.coefficients = np.linalg.inv(X_b.T.dot(X_b)).dot(X_b.T).dot(y)\n",
    "\n",
    "    def predict(self, X):\n",
    "        X_b = np.c_[np.ones((X.shape[0], 1)), X]\n",
    "        return X_b.dot(self.coefficients)"
   ]
  },
  {
   "cell_type": "code",
   "execution_count": null,
   "id": "a5eb68099ac8bd1",
   "metadata": {
    "collapsed": false,
    "ExecuteTime": {
     "end_time": "2024-01-19T11:13:45.020204Z",
     "start_time": "2024-01-19T11:13:45.017735Z"
    }
   },
   "outputs": [],
   "source": [
    "model1 = LinearRegression()\n",
    "model1.fit(x_train, y_train)\n",
    "\n",
    "model2 = LinearRegression()\n",
    "model2.fit(x_train['Previous Scores'], y_train)\n",
    "\n",
    "model3 = LinearRegression()\n",
    "model3.fit(x_train['Hours Studied'], y_train)"
   ]
  },
  {
   "cell_type": "code",
   "execution_count": null,
   "id": "a9169952d4869fdc",
   "metadata": {
    "collapsed": false,
    "ExecuteTime": {
     "start_time": "2024-01-19T11:13:45.019043Z"
    }
   },
   "outputs": [],
   "source": [
    "from sklearn.metrics import r2_score\n",
    "\n",
    "def evaluate_model(X, y, theta):\n",
    "    X_b = np.c_[np.ones((X.shape[0], 1)), X]\n",
    "    predictions = X_b.dot(theta)\n",
    "    r2 = r2_score(y, predictions)\n",
    "    return r2\n",
    "\n",
    "\n",
    "r2_model1 = evaluate_model(x_test, y_test, model1.coefficients)\n",
    "r2_model2 = evaluate_model(x_test['Previous Scores'], y_test, model2.coefficients)\n",
    "r2_model3 = evaluate_model(x_test['Hours Studied'], y_test, model3.coefficients)"
   ]
  },
  {
   "cell_type": "code",
   "execution_count": null,
   "id": "4d961c42724d4580",
   "metadata": {
    "collapsed": false,
    "ExecuteTime": {
     "start_time": "2024-01-19T11:13:45.020027Z"
    }
   },
   "outputs": [],
   "source": [
    "print(\"R^2 score of module 1:\", r2_model1)\n",
    "print(\"R^2 score of module 2:\", r2_model2)\n",
    "print(\"R^2 score of module 2:\", r2_model3)"
   ]
  },
  {
   "cell_type": "code",
   "execution_count": null,
   "id": "d90fc6400e0068df",
   "metadata": {
    "collapsed": false,
    "ExecuteTime": {
     "start_time": "2024-01-19T11:13:45.021263Z"
    }
   },
   "outputs": [],
   "source": []
  }
 ],
 "metadata": {
  "kernelspec": {
   "display_name": "Python 3",
   "language": "python",
   "name": "python3"
  },
  "language_info": {
   "codemirror_mode": {
    "name": "ipython",
    "version": 2
   },
   "file_extension": ".py",
   "mimetype": "text/x-python",
   "name": "python",
   "nbconvert_exporter": "python",
   "pygments_lexer": "ipython2",
   "version": "2.7.6"
  }
 },
 "nbformat": 4,
 "nbformat_minor": 5
}
