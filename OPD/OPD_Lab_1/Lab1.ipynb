{
 "cells": [
  {
   "cell_type": "markdown",
   "metadata": {
    "collapsed": true,
    "pycharm": {
     "name": "#%% md\n"
    }
   },
   "source": [
    "1. Создать приведенное в варианте дерево каталогов и файлов с содержимым. В качестве корня дерева использовать каталог `lab0` своего домашнего каталога. Для создания и навигации по дереву использовать команды: `mkdir, echo, cat, touch, ls, pwd, cd, more, cp, rm, rmdir, mv`."
   ]
  },
  {
   "cell_type": "markdown",
   "metadata": {
    "collapsed": false,
    "pycharm": {
     "name": "#%% md\n"
    }
   },
   "source": [
    "```\n",
    "mkdir lab0\n",
    "cd lab0\n",
    "echo weight=4.4 height=8.0 atk=4 > azurill3\n",
    "echo Тип покемона  NORMAL NONE > clefable1\n",
    "echo Ходы > kabuto8\n",
    "echo Ancientpower Body Slam Brine Double-Edge Earth Power Giga Drain Icy >> kabuto8\n",
    "echo Wind Iron Defense Knock Off Rollout Sleep Talk Snore Stealth Rock >> kabuto8\n",
    "echo Water Pulse >> kabuto8\n",
    "mkdir blissey3 breloom6 poliwag4\n",
    "cd blissey3\n",
    "echo PSYCHIC NONE > chingling\n",
    "echo Ходы  Icy Wind Iron Defense Maqic Coat Magnet > vanillish\n",
    "echo Rise Signal Beam Sleep Talk Snore Uproar >> vanillish\n",
    "echo Возможности > typhlosion\n",
    "echo Overland=11 Jump=3 Power=4 Intelligence=4 Firestarter=0 Heater=0 >> typhlosion\n",
    "echo Sinker=0 >> typhlosion\n",
    "echo Развитые способности  Cursed Body > misdreavus\n",
    "mkdir omastar umbreon\n",
    "cd ..\n",
    "cd breloom6\n",
    "echo Ходы > cranidos\n",
    "echo Ancientpower Dragon Pulse Earth Power Endeavor Fire Punch Iron Head >> cranidos\n",
    "echo Iron Tail Mud-Slap Rock CLimb Shock Wave Sleep Talk Snore Spite >> cranidos\n",
    "echo Stealth Rock Superpower Thunderpunch Uproar Zen >> cranidos\n",
    "mkdir leafeon lampent jigglypuff salamence\n",
    "cd ..\n",
    "cd poliwag4\n",
    "echo Развитые способности > snivy\n",
    "echo Contrary >> snivy\n",
    "echo weigth=15.2 height=28.0 atk=5 def=5 > bulbasaur\n",
    "mkdir poliwrath slowking\n",
    "cd ..\n",
    "```"
   ]
  },
  {
   "cell_type": "markdown",
   "metadata": {
    "collapsed": false
   },
   "source": [
    "2. Установить согласно заданию права на файлы и каталоги при помощи команды chmod, используя различные способы указания прав.\n",
    "- azurill3: права 044\n",
    "- blissey3: rwxr-x-wx\n",
    "- chingling: владелец должен читать и записывать файл; группа-владелец должна записывать файл; остальные пользователи должны читать файл\n",
    "- vanillish: владелец должен не иметь никаких прав; группа-владелец должна читать файл; остальные пользователи должны читать файл\n",
    "- omastar: права 355\n",
    "- umbreon: -wxrwx-wx\n",
    "- typhlosion: права 400\n",
    "- misdreavus: владелец должен читать и записывать файл; группа-владелец должна не иметь никаких прав; остальные пользователи должны читать файл\n",
    "- breloom6: -wx-wx-wx\n",
    "- leafeon: r-x-wxrwx\n",
    "- lampent: владелец должен записывать директорию и переходить в нее; группа-владелец должна читать и записывать директорию; остальные пользователи должны записывать директорию и переходить в нее\n",
    "- jigglypuff: права 330\n",
    "- salamence: владелец должен читать, записывать директорию и переходить в нее; группа-владелец должна записывать директорию и переходить в нее; остальные пользователи должны записывать директорию и переходить в нее\n",
    "- cranidos: владелец должен читать файл; группа-владелец должна не иметь никаких прав; остальные пользователи должны читать файл\n",
    "- clefable1: r-----r--\n",
    "- kabuto8: права 444\n",
    "- poliwag4: права 355\n",
    "- snivy: владелец должен читать файл; группа-владелец должна читать файл; остальные пользователи должны читать файл\n",
    "- bulbasaur: владелец должен не иметь никаких прав; группа-владелец должна не иметь никаких прав; остальные пользователи должны читать файл\n",
    "- poliwrath: права 511\n",
    "- slowking: -wx-wx-wx"
   ]
  },
  {
   "cell_type": "markdown",
   "metadata": {
    "collapsed": false,
    "pycharm": {
     "name": "#%% md\n"
    }
   },
   "source": [
    "```\n",
    "chmod 044 azurill3\n",
    "chmod 753 blissey3\n",
    "cd blissey3\n",
    "chmod 624 chingling\n",
    "chmod 044 vanillish\n",
    "chmod 355 omastar\n",
    "chmod 373 umbreon\n",
    "chmod 400 typhlosion\n",
    "chmod 602 misdreavus\n",
    "cd ..\n",
    "chmod 333 breloom6\n",
    "cd breloom6\n",
    "chmod 537 leafeon\n",
    "chmod 363 lampent\n",
    "chmod 330 jigglypuff\n",
    "chmod 733 salamence\n",
    "chmod 404 cranidos\n",
    "cd ..\n",
    "chmod 404 clefable1\n",
    "chmod 444 kabuto8\n",
    "chmod 355 poliwag4\n",
    "cd poliwag4\n",
    "chmod 444 snivy\n",
    "chmod 004 bulbasaur\n",
    "chmod 511 poliwrath\n",
    "chmod 333 slowking\n",
    "cd ..\n",
    "```"
   ]
  },
  {
   "cell_type": "markdown",
   "metadata": {
    "collapsed": false,
    "pycharm": {
     "name": "#%% md\n"
    }
   },
   "source": [
    "3.\tСкопировать часть дерева и создать ссылки внутри дерева согласно заданию при помощи команд `cp` и `ln`, а также комманды `cat` и перенаправления ввода-вывода.\n",
    "- создать символическую ссылку c именем Copy_7 на директорию breloom6 в каталоге lab0\n",
    "- скопировать рекурсивно директорию blissey3 в директорию lab0/poliwag4/poliwrath\n",
    "- скопировать файл clefable1 в директорию lab0/breloom6/leafeon\n",
    "- объеденить содержимое файлов lab0/blissey3/chingling, lab0/blissey3/typhlosion, в новый файл lab0/kabuto8_87\n",
    "- cоздать символическую ссылку для файла kabuto8 с именем lab0/breloom6/cranidoskabuto\n",
    "- скопировать содержимое файла clefable1 в новый файл lab0/breloom6/cranidosclefable\n",
    "- cоздать жесткую ссылку для файла clefable1 с именем lab0/breloom6/cranidosclefable"
   ]
  },
  {
   "cell_type": "markdown",
   "metadata": {
    "collapsed": false,
    "pycharm": {
     "name": "#%% md\n"
    }
   },
   "source": [
    "```\n",
    "ln -s breloom6 Copy_7\n",
    "cp -r blissey3 poliwag4/poliwrath\n",
    "cp clefable1 breloom6/leafeon\n",
    "cat blissey3/chingling blissey3/typhlosion > kabuto8_87\n",
    "ln -s kabuto8 breloom6/cranidoskabuto\n",
    "cp clefable1 breloom6/cranidosclefable_clefable_cp\n",
    "ln clefable1 breloom6/cranidosclefable\n",
    "```"
   ]
  },
  {
   "cell_type": "markdown",
   "metadata": {
    "collapsed": false
   },
   "source": [
    "4.\tИспользуя команды `cat, wc, ls, head, tail, echo, sort, grep` выполнить в соответствии с вариантом задания поиск и фильтрацию файлов, каталогов и содержащихся в них данных.\n",
    "- Рекурсивно подсчитать количество строк содержимого файлов из директории lab0, имя которых начинается на 's', результат записать в файл в директории /tmp, ошибки доступа перенаправить в файл в директории /tmp\n",
    "- Вывести два первых элемента рекурсивного списка имен и атрибутов файлов в директории lab0, список отсортировать по возрастанию количества жестких ссылок, ошибки доступа перенаправить в файл в директории /tmp\n",
    "- Вывести содержимое файлов: cranidos, snivy, оставить только строки, заканчивающиеся на 't', регистр символов игнорировать, подавить вывод ошибок доступа\n",
    "- Вывести три последних элемента рекурсивного списка имен и атрибутов файлов в директории lab0, список отсортировать по убыванию размера, ошибки доступа перенаправить в файл в директории `/tmp`\n",
    "- Рекурсивно подсчитать количество символов содержимого файлов из директории lab0, имя которых начинается на 's', отсортировать вывод по уменьшению количества, добавить вывод ошибок доступа в стандартный поток вывода\n",
    "- Вывести четыре последних элемента рекурсивного списка имен и атрибутов файлов в директории lab0, содержащих строку \"sa\", список отсортировать по убыванию даты изменения записи о файле, добавить вывод ошибок доступа в стандартный поток вывода\n",
    "\n"
   ]
  },
  {
   "cell_type": "markdown",
   "metadata": {
    "collapsed": false,
    "pycharm": {
     "name": "#%% md\n"
    }
   },
   "source": [
    "```\n",
    "wc -l ./s* ./*/s* > /tmp/s336184_res 2> /tmp/s336184_err\n",
    "ls -l 2>> /tmp/s336184_err | sort -k 2 | head -2\n",
    "cat breloom6/cranidos poliwag4/snivy 2> /dev/null | grep '[tT]$'\n",
    "ls -lS 2>> /tmp/s336184_err | tail -3\n",
    "wc -c ./s* ./*/s* 2>&1 | sort -rn -k 2\n",
    "ls -lRt  2>&1 | grep sa | tail -4\n",
    "```"
   ]
  },
  {
   "cell_type": "markdown",
   "metadata": {
    "collapsed": false
   },
   "source": [
    "5.\tВыполнить удаление файлов и каталогов при помощи команд `rm` и `rmdir` согласно варианту задания.\n",
    "- Удалить файл azurill3\n",
    "- Удалить файл lab0/breloom6/cranidos\n",
    "- удалить символические ссылки Copy*\n",
    "- удалить жесткие ссылки lab0/breloom6/cranidosclefab*\n",
    "- Удалить директорию blissey3\n",
    "- Удалить директорию lab0/poliwag4/poliwrath"
   ]
  },
  {
   "cell_type": "markdown",
   "metadata": {
    "collapsed": false,
    "pycharm": {
     "name": "#%% md\n"
    }
   },
   "source": [
    "```\n",
    "rm azurill3\n",
    "rm breloom6/cranidos\n",
    "rm Copy*dj\n",
    "rm breloom6/cranidosclefab*\n",
    "rm -r blissey3\n",
    "rmdir poliwag/poliwrath\n",
    "```\n"
   ]
  },
  {
   "cell_type": "markdown",
   "metadata": {},
   "source": [
    "**Дополнительное Задание:**\n",
    "\n",
    "script that will create void file in lab0 directories of your classmates (P3113). Filename must be \"space\n",
    "invader\" (with newline character in name). Access rights of the file 000 (No one can do nothing)."
   ]
  }
 ],
 "metadata": {
  "kernelspec": {
   "display_name": "Python 3",
   "language": "python",
   "name": "python3"
  },
  "language_info": {
   "codemirror_mode": {
    "name": "ipython",
    "version": 2
   },
   "file_extension": ".py",
   "mimetype": "text/x-python",
   "name": "python",
   "nbconvert_exporter": "python",
   "pygments_lexer": "ipython2",
   "version": "2.7.6"
  }
 },
 "nbformat": 4,
 "nbformat_minor": 0
}
